{
 "cells": [
  {
   "cell_type": "code",
   "execution_count": 8,
   "id": "de637177-eb7f-4836-8532-a05bb4d91b8b",
   "metadata": {},
   "outputs": [
    {
     "data": {
      "text/plain": [
       "'nt'"
      ]
     },
     "execution_count": 8,
     "metadata": {},
     "output_type": "execute_result"
    }
   ],
   "source": [
    "name = 'santhosh'\n",
    "name[slice(2,4)]"
   ]
  },
  {
   "cell_type": "code",
   "execution_count": 7,
   "id": "dac119d9-3474-4cf5-96b3-db8f3ccd2cb4",
   "metadata": {},
   "outputs": [
    {
     "data": {
      "text/plain": [
       "[4, 5]"
      ]
     },
     "execution_count": 7,
     "metadata": {},
     "output_type": "execute_result"
    }
   ],
   "source": [
    "li = [2, 3,4,5]\n",
    "li[slice(2,4)]"
   ]
  },
  {
   "cell_type": "code",
   "execution_count": 82,
   "id": "3a4eb591-6075-4ca2-9275-5b6a2621aac2",
   "metadata": {},
   "outputs": [
    {
     "name": "stdout",
     "output_type": "stream",
     "text": [
      "010019\n"
     ]
    }
   ],
   "source": [
    "city = (13.000197792, 80.20462943076174)\n",
    "lat = str(city[0])\n",
    "lon = city[1]\n",
    "print(type(lat))\n",
    "print(str(city[0])[4:10])\n",
    "latStr = lat.split('.')\n",
    "lat = [latStr[0], latStr[1][0:6]]\n",
    "lat = float('.'.join(lat))\n",
    "city1= (lat, lon)\n"
   ]
  },
  {
   "cell_type": "code",
   "execution_count": 70,
   "id": "7db30dd0-9da4-4c7c-b5fd-4d68340ecaa6",
   "metadata": {},
   "outputs": [],
   "source": [
    "latStr = lat.split('.')"
   ]
  },
  {
   "cell_type": "code",
   "execution_count": 71,
   "id": "daa900fc-5789-4fe1-9cf4-c985dbd17034",
   "metadata": {},
   "outputs": [
    {
     "name": "stdout",
     "output_type": "stream",
     "text": [
      "['131', '000197792']\n"
     ]
    }
   ],
   "source": [
    "print(latStr)"
   ]
  },
  {
   "cell_type": "code",
   "execution_count": 72,
   "id": "60e52bdd-b9fb-4e33-a3b5-f9050d456d10",
   "metadata": {},
   "outputs": [
    {
     "data": {
      "text/plain": [
       "'000197'"
      ]
     },
     "execution_count": 72,
     "metadata": {},
     "output_type": "execute_result"
    }
   ],
   "source": [
    "latStr[1][0:6]"
   ]
  },
  {
   "cell_type": "code",
   "execution_count": 73,
   "id": "675a708c-fe6c-4b7f-8636-e211f880489a",
   "metadata": {},
   "outputs": [],
   "source": [
    "lat = [latStr[0], latStr[1][0:6]]"
   ]
  },
  {
   "cell_type": "code",
   "execution_count": 74,
   "id": "bea2f700-7d41-4f0b-89c5-39471e8350bb",
   "metadata": {},
   "outputs": [],
   "source": [
    "lat = float('.'.join(lat))"
   ]
  },
  {
   "cell_type": "code",
   "execution_count": 75,
   "id": "24ee62db-b286-4703-847a-e43e95fa5de3",
   "metadata": {},
   "outputs": [],
   "source": [
    "city1= (lat, lon)"
   ]
  },
  {
   "cell_type": "code",
   "execution_count": 76,
   "id": "6c826cb8-e6bc-4260-adb7-e99342324a4a",
   "metadata": {},
   "outputs": [
    {
     "data": {
      "text/plain": [
       "(131.000197, 80.20462943076174)"
      ]
     },
     "execution_count": 76,
     "metadata": {},
     "output_type": "execute_result"
    }
   ],
   "source": [
    "city1"
   ]
  },
  {
   "cell_type": "code",
   "execution_count": null,
   "id": "74dbe126-55e4-44be-af67-32ad0233283b",
   "metadata": {},
   "outputs": [],
   "source": []
  }
 ],
 "metadata": {
  "kernelspec": {
   "display_name": "Python 3 (ipykernel)",
   "language": "python",
   "name": "python3"
  },
  "language_info": {
   "codemirror_mode": {
    "name": "ipython",
    "version": 3
   },
   "file_extension": ".py",
   "mimetype": "text/x-python",
   "name": "python",
   "nbconvert_exporter": "python",
   "pygments_lexer": "ipython3",
   "version": "3.9.5"
  }
 },
 "nbformat": 4,
 "nbformat_minor": 5
}
